{
 "cells": [
  {
   "metadata": {},
   "cell_type": "markdown",
   "source": "# 파이썬모듈 메인 퀘스트01,   2024. 9. 2.  김민규(03)",
   "id": "fabd697a37bd7ea7"
  },
  {
   "metadata": {},
   "cell_type": "markdown",
   "source": "## 메인퀘스트 1 은행계좌만들기",
   "id": "c8cf6283e5e8274d"
  },
  {
   "metadata": {
    "ExecuteTime": {
     "end_time": "2024-09-02T01:53:47.180854Z",
     "start_time": "2024-09-02T01:53:47.178789Z"
    }
   },
   "cell_type": "code",
   "source": [
    "'''\n",
    "Bank Account 관련 각종의 imports...\n",
    "'''\n",
    "import random\n",
    "from babel.numbers import format_currency # 화폐단위 표기를 위하여...\n",
    "\n"
   ],
   "id": "129396f160a3ea2",
   "outputs": [],
   "execution_count": 11
  },
  {
   "cell_type": "code",
   "id": "initial_id",
   "metadata": {
    "collapsed": true,
    "ExecuteTime": {
     "end_time": "2024-09-02T04:11:23.163822Z",
     "start_time": "2024-09-02T04:11:23.154153Z"
    }
   },
   "source": [
    "class Account:\n",
    "    '''\n",
    "    class variables \n",
    "    본 주석 부분에 선언된 변수들은 제가 퀘스트 구현 상 편의를 위하여 작성한 주석들입니다. \n",
    "    '''\n",
    "    bankName = 'SC은행'\n",
    "    accountHolder = ''\n",
    "    accountNumber = ''\n",
    "    balance = 0\n",
    "\n",
    "    class Transaction: # 개별 거래를 관리하기 위한 클래스\n",
    "        def __init__(self, type='OPEN_ACCOUNT', amount=0):\n",
    "            self.txType = type\n",
    "            self.txAmount = amount\n",
    "    \n",
    "    \n",
    "    \n",
    "    '''\n",
    "    [Q2] 클래스변수 accountTotalNumber는 Account 클래스로부터 생성된 계좌 객체의 갯수를 저장합니다. \n",
    "    '''\n",
    "    accountTotalNumber = 0\n",
    "      \n",
    "    '''\n",
    "    [Q1] constructor __init__은 account class를 생성하면서 초기정보를 입력합니다. \n",
    "    '''\n",
    "    def __init__(self):\n",
    "        self.transactions = []  # transaction 정보들을 모아두는 리스트입니다. 통장으로 볼 수 있습니다.\n",
    "        self.transactions.append(self.Transaction())\n",
    "        self.accountHolder = str(input('예금주의 성명입력 : '))\n",
    "        self.balance = int(input('초기 입금액 (초기잔액 설정) : '))\n",
    "        tmpAccount = [''] * 13\n",
    "        for i in range(13):\n",
    "            if i == 3:\n",
    "                tmpAccount[i] = '-'\n",
    "            elif i == 6:\n",
    "                tmpAccount[i] = '-'\n",
    "            else:\n",
    "                tmpAccount[i] = str(random.randint(0, 9))\n",
    "                \n",
    "        self.accountNumber = ''.join(tmpAccount)\n",
    "        \n",
    "        print(f'아래 정보로 계좌가 생성되었습니다.')\n",
    "        self.display_info()\n",
    "        Account.accountTotalNumber += 1\n",
    "        \n",
    "        \n",
    "\n",
    "\n",
    "    \n",
    "    '''\n",
    "    [Q3] get_account_num method는 클래스변수 accountTotalNumber를 출력합니다. \n",
    "    '''\n",
    "    def get_account_num():\n",
    "        print(f'총 계좌 갯수 : {Account.accountTotalNumber}')\n",
    "        \n",
    "        \n",
    "    '''\n",
    "    [Q4] deposit method는 최소 1원이상만 입금 가능합니다. \n",
    "    '''\n",
    "    def deposit(self):\n",
    "        \n",
    "        tmpDeposit = int(input('입금액 입력 : '))\n",
    "        if tmpDeposit < 1:\n",
    "            print(f'최소 1원 이상만 입금 가능합니다.')\n",
    "            \n",
    "        else:\n",
    "            self.balance += tmpDeposit\n",
    "            tmpTx = self.Transaction('DEPOSIT', tmpDeposit)\n",
    "            print(f'입금 완료 {format_currency(tmpDeposit, 'KRW', locale='ko_KR')}')\n",
    "            self.transactions.append(tmpTx)\n",
    "            self.checkInterest()\n",
    "            \n",
    "        \n",
    "        \n",
    "        self.display_info()\n",
    "    \n",
    "    '''\n",
    "    [Q5] withdraw method는 계좌의 잔고 이상으로 출금할 수는 없습니다.\n",
    "    '''\n",
    "    def withdraw(self):\n",
    "        \n",
    "        tmpWithdraw = int(input('출금액 입력 : '))\n",
    "        if tmpWithdraw > self.balance:\n",
    "            print(f'출금액은 계좌의 잔고 이상이어야 합니다.')\n",
    "            \n",
    "        else:\n",
    "            self.balance -= tmpWithdraw\n",
    "            tmpTx = self.Transaction('WITHDRAW', tmpWithdraw)\n",
    "            print(f'출금 완료 : {format_currency(tmpWithdraw, \"KRW\", locale=\"ko_KR\")}')\n",
    "        \n",
    "        self.transactions.append(tmpTx)\n",
    "        self.display_info()\n",
    "    \n",
    "    '''\n",
    "    [Q6] display_info() method는 Account 인스턴스에 저장된 정보를 출력합니다. 잔고는 세자리마다 쉼표를 출력합니다. \n",
    "    for example, (은행이름: SC은행, 예금주: 파이썬, 계좌번호: 111-11-111111, 잔고: 10,000원) \n",
    "    '''\n",
    "    def display_info(self):\n",
    "        print(f'은행이름: SC은행, 예금주: {self.accountHolder}, 계좌번호: {self.accountNumber}, 잔고 : {format_currency(self.balance, 'KRW', locale='ko_KR')}')\n",
    "\n",
    "\n",
    "\n",
    "    '''\n",
    "    [Q7] 이자지급하기 메쏘드입니다. deposit 메소드에서 호출합니다.\n",
    "    checkInterest는 입금횟수가 5회가 될 때에 잔고를 기준으로 1%의 이자가 잔고에 추가되도록 체크하는 메소드입니다.\n",
    "    먼저, transactions에서 시간순 마지막 거래타입 OPEN_ACCOUNT 또는 INTEREST를 찾은 후\n",
    "    그 이후의 모든 거래타입 DEPOSIT들을 추출하여 임시 리스트에 모아놓고 그 리스트의 길이가 5라면 INTEREST 지급합니다.\n",
    "    '''\n",
    "    def checkInterest(self):\n",
    "        revTransactions = self.transactions[::-1]\n",
    "        self.depositCounterFromEnd = 0\n",
    "        \n",
    "        for idx,tx in enumerate(revTransactions):\n",
    "            if tx.txType == 'DEPOSIT':\n",
    "                self.depositCounterFromEnd += 1\n",
    "                print(f'DepositCounter: {self.depositCounterFromEnd}')\n",
    "                if self.depositCounterFromEnd == 5:\n",
    "                    print(f'Debug Point 5')\n",
    "                    self.balance += self.balance*0.01\n",
    "                    self.transactions.append(self.Transaction('INTEREST', self.balance*0.01))\n",
    "                    self.depositCounterFromEnd = 0\n",
    "                    break\n",
    "                    \n",
    "                else:\n",
    "                    print(f'Debug Point 1')\n",
    "                    \n",
    "                    pass\n",
    "\n",
    "            elif tx.txType == 'OPEN_ACCOUNT':\n",
    "                break\n",
    "            elif tx.txType == 'INTEREST':\n",
    "                break\n",
    "                \n",
    "            else:\n",
    "                pass\n",
    "                    \n",
    "\n",
    "    '''\n",
    "    [Q10] 입금과 출금 내역은 self.transactions에 모두 보관됩니다. \n",
    "    아래 deposit_history, withdraw_history 메서드는 transactions 에서 해당 정보들을 각 추출하여 출력합니다. \n",
    "    '''\n",
    "    def deposit_history(self):\n",
    "        for tx in self.transactions:\n",
    "            if tx.txType == 'DEPOSIT':\n",
    "                print(tx.txType, format_currency(tx.txAmount, 'KRW', locale='ko_KR'))\n",
    "            else:\n",
    "                pass\n",
    "    \n",
    "    def withdraw_history(self):\n",
    "        for tx in self.transactions:\n",
    "            if tx.txType == 'WITHDRAW':\n",
    "                print(tx.txType, format_currency(tx.txAmount, 'KRW', locale='ko_KR'))\n",
    "            else:\n",
    "                pass\n",
    "\n",
    "        \n",
    "    \n",
    "    '''\n",
    "    transaction 정보들을 모두 출력합니다.\n",
    "    ''' \n",
    "    def display_transactions(self):\n",
    "        for tx in self.transactions:\n",
    "            print(tx.txType, format_currency(tx.txAmount, 'KRW', locale='ko_KR'))"
   ],
   "outputs": [],
   "execution_count": 303
  },
  {
   "metadata": {
    "ExecuteTime": {
     "end_time": "2024-09-02T04:27:12.061325Z",
     "start_time": "2024-09-02T04:26:25.596022Z"
    }
   },
   "cell_type": "code",
   "source": [
    "'''\n",
    "[Q8] Account 클래스로부터 3개이상 인스턴스를 생성하고 생성된 인스턴스를 리스트에 저장합니다.\n",
    "'''\n",
    "\n",
    "totalAccounts = [Account() for i in range(10)]"
   ],
   "id": "137d41ca9a4f0b65",
   "outputs": [
    {
     "name": "stdout",
     "output_type": "stream",
     "text": [
      "아래 정보로 계좌가 생성되었습니다.\n",
      "은행이름: SC은행, 예금주: 성이름1, 계좌번호: 237-83-554072, 잔고 : ₩1,000,000,000\n",
      "아래 정보로 계좌가 생성되었습니다.\n",
      "은행이름: SC은행, 예금주: 성이름2, 계좌번호: 436-10-398164, 잔고 : ₩1,000,000,000\n",
      "아래 정보로 계좌가 생성되었습니다.\n",
      "은행이름: SC은행, 예금주: 성이름3, 계좌번호: 311-56-035343, 잔고 : ₩1,000,000,000\n",
      "아래 정보로 계좌가 생성되었습니다.\n",
      "은행이름: SC은행, 예금주: 성이름4, 계좌번호: 097-36-669133, 잔고 : ₩1,000,000,000\n",
      "아래 정보로 계좌가 생성되었습니다.\n",
      "은행이름: SC은행, 예금주: 성이름5, 계좌번호: 085-78-840506, 잔고 : ₩1,000,000,000\n",
      "아래 정보로 계좌가 생성되었습니다.\n",
      "은행이름: SC은행, 예금주: 성이름6, 계좌번호: 976-94-586112, 잔고 : ₩1,000,000,000\n",
      "아래 정보로 계좌가 생성되었습니다.\n",
      "은행이름: SC은행, 예금주: 성이름7, 계좌번호: 714-61-581054, 잔고 : ₩1,000,000,000\n",
      "아래 정보로 계좌가 생성되었습니다.\n",
      "은행이름: SC은행, 예금주: 성이름8, 계좌번호: 286-72-274402, 잔고 : ₩1,000,000,000\n",
      "아래 정보로 계좌가 생성되었습니다.\n",
      "은행이름: SC은행, 예금주: 성이름9, 계좌번호: 503-11-097194, 잔고 : ₩1,000,000,000\n",
      "아래 정보로 계좌가 생성되었습니다.\n",
      "은행이름: SC은행, 예금주: 성이름10, 계좌번호: 660-61-642950, 잔고 : ₩1,000,000,000\n"
     ]
    }
   ],
   "execution_count": 308
  },
  {
   "metadata": {
    "ExecuteTime": {
     "end_time": "2024-09-02T04:30:44.323988Z",
     "start_time": "2024-09-02T04:30:44.320576Z"
    }
   },
   "cell_type": "code",
   "source": [
    "'''\n",
    "[Q9] 객체순회반복문을 통하여 리스트에 있는 객체를 순회하면서 잔고가 100만원 이상인 고객의 정보만 출력합니다.\n",
    "'''\n",
    "for acct in totalAccounts:\n",
    "    if acct.balance >= 1000000:\n",
    "        acct.display_info()\n",
    "    else:\n",
    "        pass\n"
   ],
   "id": "68a6c441d912f836",
   "outputs": [
    {
     "name": "stdout",
     "output_type": "stream",
     "text": [
      "은행이름: SC은행, 예금주: 성이름1, 계좌번호: 237-83-554072, 잔고 : ₩1,000,000,000\n",
      "은행이름: SC은행, 예금주: 성이름3, 계좌번호: 311-56-035343, 잔고 : ₩1,000,000,000\n",
      "은행이름: SC은행, 예금주: 성이름4, 계좌번호: 097-36-669133, 잔고 : ₩1,000,000,000\n",
      "은행이름: SC은행, 예금주: 성이름5, 계좌번호: 085-78-840506, 잔고 : ₩1,000,000,000\n",
      "은행이름: SC은행, 예금주: 성이름6, 계좌번호: 976-94-586112, 잔고 : ₩1,000,000,000\n",
      "은행이름: SC은행, 예금주: 성이름7, 계좌번호: 714-61-581054, 잔고 : ₩1,000,000,000\n",
      "은행이름: SC은행, 예금주: 성이름8, 계좌번호: 286-72-274402, 잔고 : ₩1,000,000,000\n",
      "은행이름: SC은행, 예금주: 성이름9, 계좌번호: 503-11-097194, 잔고 : ₩1,000,000,000\n",
      "은행이름: SC은행, 예금주: 성이름10, 계좌번호: 660-61-642950, 잔고 : ₩1,000,000,000\n"
     ]
    }
   ],
   "execution_count": 311
  },
  {
   "metadata": {
    "ExecuteTime": {
     "end_time": "2024-09-02T04:30:38.901259Z",
     "start_time": "2024-09-02T04:30:10.366534Z"
    }
   },
   "cell_type": "code",
   "source": "totalAccounts[1].withdraw()",
   "id": "74458d5cc298fbf7",
   "outputs": [
    {
     "name": "stdout",
     "output_type": "stream",
     "text": [
      "출금 완료 : ₩999,900,000\n",
      "은행이름: SC은행, 예금주: 성이름2, 계좌번호: 436-10-398164, 잔고 : ₩100,000\n"
     ]
    }
   ],
   "execution_count": 310
  },
  {
   "metadata": {},
   "cell_type": "code",
   "outputs": [],
   "execution_count": null,
   "source": "",
   "id": "930d1e23f8905454"
  }
 ],
 "metadata": {
  "kernelspec": {
   "display_name": "Python 3",
   "language": "python",
   "name": "python3"
  },
  "language_info": {
   "codemirror_mode": {
    "name": "ipython",
    "version": 2
   },
   "file_extension": ".py",
   "mimetype": "text/x-python",
   "name": "python",
   "nbconvert_exporter": "python",
   "pygments_lexer": "ipython2",
   "version": "2.7.6"
  }
 },
 "nbformat": 4,
 "nbformat_minor": 5
}
