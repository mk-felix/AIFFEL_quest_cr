{
 "cells": [
  {
   "metadata": {},
   "cell_type": "markdown",
   "source": "# 파이썬모듈 메인 퀘스트01,   2024. 9. 2.  김민규(03)",
   "id": "fabd697a37bd7ea7"
  },
  {
   "metadata": {},
   "cell_type": "markdown",
   "source": "## 메인퀘스트 1 은행계좌만들기",
   "id": "c8cf6283e5e8274d"
  },
  {
   "metadata": {
    "ExecuteTime": {
     "end_time": "2024-09-02T06:28:41.486927Z",
     "start_time": "2024-09-02T06:28:41.483161Z"
    }
   },
   "cell_type": "code",
   "source": [
    "'''\n",
    "Bank Account 관련 각종의 imports...\n",
    "'''\n",
    "import random\n",
    "from babel.numbers import format_currency # 아래 화폐 1000단위 쉼표 표기 참조\n",
    "\n"
   ],
   "id": "129396f160a3ea2",
   "outputs": [],
   "execution_count": 1
  },
  {
   "metadata": {},
   "cell_type": "markdown",
   "source": [
    "### 화폐 1000단위 쉼표 표기와 관련하여....\n",
    "화폐 1000단위 쉼표 표기와 관련한 채점요소가 있는 것으로 알고 있습니다. \n",
    "f-string을 간단하게 사용하여 아래와 같이 구현한 것을 알고 있습니다만,\n",
    "* print(f'{value:,}원')\n",
    "기존에 화폐단위와 관련하여 코딩해 본 경험 상 currency 관련 라이브러리를 사용하는 것이 유지보수에 편했던 것으로 알아서\n",
    "파이썬에서 babel 을 쓸 수 있다는 것을 알고 이를 사용해보기로 하였습니다."
   ],
   "id": "9f4a4ba7b2ade2ef"
  },
  {
   "cell_type": "code",
   "id": "initial_id",
   "metadata": {
    "collapsed": true,
    "ExecuteTime": {
     "end_time": "2024-09-02T07:21:36.679035Z",
     "start_time": "2024-09-02T07:21:36.668532Z"
    }
   },
   "source": [
    "class Account:\n",
    "    '''\n",
    "    class variables \n",
    "    본 주석 부분에 선언된 변수들은 제가 퀘스트 구현 상 편의를 위하여 작성한 주석들입니다. \n",
    "    '''\n",
    "    bankName = 'SC은행'\n",
    "    accountHolder = ''\n",
    "    accountNumber = ''\n",
    "    balance = 0\n",
    "\n",
    "    class Transaction: # 개별 거래를 관리하기 위한 클래스\n",
    "        def __init__(self, type='OPEN_ACCOUNT', amount=0, txBalance=0):\n",
    "            self.txType = type # 거래 종류 \n",
    "            self.txAmount = amount # 해당거래 금액 \n",
    "            self.txBalance = txBalance #잔액\n",
    "    '''\n",
    "    [Q2] 클래스변수 accountTotalNumber는 Account 클래스로부터 생성된 계좌 객체의 갯수를 저장합니다. \n",
    "    '''\n",
    "    accountTotalNumber = 0\n",
    "      \n",
    "    '''\n",
    "    [Q1] constructor __init__은 account class를 생성하면서 초기정보를 입력합니다. \n",
    "    '''\n",
    "    def __init__(self, name, balance):\n",
    "        self.transactions = []  # transaction 정보들을 모아두는 리스트입니다. 통장으로 볼 수 있습니다.\n",
    "        self.transactions.append(self.Transaction())\n",
    "        self.accountHolder = name\n",
    "        self.balance = balance\n",
    "        tmpAccount = [''] * 13\n",
    "        for i in range(13):\n",
    "            if i == 3:\n",
    "                tmpAccount[i] = '-'\n",
    "            elif i == 6:\n",
    "                tmpAccount[i] = '-'\n",
    "            else:\n",
    "                tmpAccount[i] = str(random.randint(0, 9))\n",
    "\n",
    "        self.accountNumber = ''.join(tmpAccount)\n",
    "\n",
    "        print(f'>> 아래 정보로 계좌가 생성되었습니다.')\n",
    "        self.display_info()\n",
    "        Account.accountTotalNumber += 1\n",
    "        \n",
    "        \n",
    "\n",
    "\n",
    "    \n",
    "    '''\n",
    "    [Q3] get_account_num method는 클래스변수 accountTotalNumber를 출력합니다. \n",
    "    '''\n",
    "    def get_account_num(self):\n",
    "        print(f'생성된 총 계좌 갯수 : {Account.accountTotalNumber}')\n",
    "        \n",
    "        \n",
    "    '''\n",
    "    [Q4] deposit method는 최소 1원이상만 입금 가능합니다. \n",
    "    '''\n",
    "    def deposit(self, amount):\n",
    "        \n",
    "\n",
    "        if amount < 1:\n",
    "            print(f'>> 최소 1원 이상만 입금 가능합니다.')\n",
    "            \n",
    "        else:\n",
    "            self.balance += amount\n",
    "            tmpTx = self.Transaction('DEPOSIT', amount, self.balance)\n",
    "            print(f'>> 입금 완료 {format_currency(amount, 'KRW', locale='ko_KR')}')\n",
    "            self.transactions.append(tmpTx)\n",
    "            self.checkInterest()\n",
    "            \n",
    "        \n",
    "        \n",
    "        self.display_info()\n",
    "    \n",
    "    '''\n",
    "    [Q5] withdraw method는 계좌의 잔고 이상으로 출금할 수는 없습니다.\n",
    "    '''\n",
    "    def withdraw(self, amount):\n",
    "        \n",
    "        if amount > self.balance:\n",
    "            print(f'출금액은 계좌의 잔고 이상이어야 합니다.')\n",
    "            \n",
    "        else:\n",
    "            self.balance -= amount\n",
    "            tmpTx = self.Transaction('WITHDRAW', amount, self.balance)\n",
    "            self.transactions.append(tmpTx)\n",
    "            print(f'>> 출금 완료 : {format_currency(amount, \"KRW\", locale=\"ko_KR\")}')\n",
    "        \n",
    "        \n",
    "        self.display_info()\n",
    "    \n",
    "    '''\n",
    "    [Q6] display_info() method는 Account 인스턴스에 저장된 정보를 출력합니다. 잔고는 세자리마다 쉼표를 출력합니다. \n",
    "    for example, (은행이름: SC은행, 예금주: 파이썬, 계좌번호: 111-11-111111, 잔고: 10,000원) \n",
    "    '''\n",
    "    def display_info(self):\n",
    "        print(f'[계좌정보] 은행이름: SC은행, 예금주: {self.accountHolder}, 계좌번호: {self.accountNumber}, 잔고 : {format_currency(self.balance, 'KRW', locale='ko_KR')}')\n",
    "\n",
    "\n",
    "\n",
    "    '''\n",
    "    [Q7] 이자지급하기 메쏘드입니다. deposit 메소드에서 호출합니다. 매 입금시마다 이자 지급시기인지 체크하고 지급합니다.\n",
    "    checkInterest는 입금횟수가 5회가 될 때에 잔고를 기준으로 1%의 이자가 잔고에 추가되도록 체크하는 메소드입니다.\n",
    "    먼저, transactions를 역순으로 돌린 후에 끝에서부터 DEPOSIT이 5회가 되는지 체크합니다.\n",
    "    DEPOSIT이 아닌 OPEN_ACCOUNT 또는 INTEREST 거래의 경우에는 본 메소드를 종료합니다.\n",
    "    '''\n",
    "    def checkInterest(self):\n",
    "        revTransactions = self.transactions[::-1]\n",
    "        self.depositCounterFromEnd = 0\n",
    "        \n",
    "        for idx,tx in enumerate(revTransactions):\n",
    "            if tx.txType == 'DEPOSIT':\n",
    "                self.depositCounterFromEnd += 1\n",
    "                # print(f'DepositCounter: {self.depositCounterFromEnd}')\n",
    "                if self.depositCounterFromEnd == 5:\n",
    "                    # print(f'Debug Point 5')\n",
    "                    print(f'>> 이자지급 : {format_currency(self.balance*0.01, \"KRW\", locale=\"ko_KR\")} 의 이자 지급')\n",
    "                    self.balance += self.balance*0.01\n",
    "                    self.transactions.append(self.Transaction('INTEREST', self.balance*0.01))\n",
    "                    self.depositCounterFromEnd = 0\n",
    "                    break\n",
    "                    \n",
    "                else:\n",
    "                    # print(f'Debug Point 1')\n",
    "                    \n",
    "                    pass\n",
    "\n",
    "            elif tx.txType == 'OPEN_ACCOUNT':\n",
    "                break\n",
    "            elif tx.txType == 'INTEREST':\n",
    "                break\n",
    "                \n",
    "            else:\n",
    "                pass\n",
    "                    \n",
    "\n",
    "    '''\n",
    "    [Q10] 입금과 출금 내역은 self.transactions에 모두 보관됩니다. \n",
    "    아래 deposit_history, withdraw_history 메서드는 transactions 에서 해당 정보들을 각 추출하여 출력합니다. \n",
    "    '''\n",
    "    def deposit_history(self):\n",
    "        for tx in self.transactions:\n",
    "            if tx.txType == 'DEPOSIT':\n",
    "                print(tx.txType, format_currency(tx.txAmount, 'KRW', locale='ko_KR'), '잔고 : '+f'{format_currency(tx.txBalance, \"KRW\", locale=\"ko_KR\")}')\n",
    "            else:\n",
    "                pass\n",
    "    \n",
    "    def withdraw_history(self):\n",
    "        for tx in self.transactions:\n",
    "            if tx.txType == 'WITHDRAW':\n",
    "                print(tx.txType, format_currency(tx.txAmount, 'KRW', locale='ko_KR'), '잔고 : '+f'{format_currency(tx.txBalance, \"KRW\", locale=\"ko_KR\")}')\n",
    "            else:\n",
    "                pass\n",
    "\n",
    "        \n",
    "    \n",
    "    '''\n",
    "    transaction 정보들을 모두 출력합니다.\n",
    "    ''' \n",
    "    def display_transactions(self):\n",
    "        for tx in self.transactions:\n",
    "            print('[거래정보] '+tx.txType, format_currency(tx.txAmount, 'KRW', locale='ko_KR'), '잔고 : '+f'{format_currency(tx.txBalance, \"KRW\", locale=\"ko_KR\")}')\n",
    "            \n",
    "            \n",
    "            "
   ],
   "outputs": [],
   "execution_count": 49
  },
  {
   "metadata": {
    "ExecuteTime": {
     "end_time": "2024-09-02T07:21:36.982156Z",
     "start_time": "2024-09-02T07:21:36.978901Z"
    }
   },
   "cell_type": "code",
   "source": [
    "'''\n",
    "[Q8] Account 클래스로부터 3개이상 인스턴스를 생성하고 생성된 인스턴스를 리스트에 저장합니다.\n",
    "'''\n",
    "first_account = Account('차정은', 1000)\n",
    "second_account = Account('박광석', 3000000)\n",
    "third_account = Account('조웅제', 5000000)"
   ],
   "id": "137d41ca9a4f0b65",
   "outputs": [
    {
     "name": "stdout",
     "output_type": "stream",
     "text": [
      ">> 아래 정보로 계좌가 생성되었습니다.\n",
      "[계좌정보] 은행이름: SC은행, 예금주: 차정은, 계좌번호: 274-20-535077, 잔고 : ₩1,000\n",
      ">> 아래 정보로 계좌가 생성되었습니다.\n",
      "[계좌정보] 은행이름: SC은행, 예금주: 박광석, 계좌번호: 220-29-498669, 잔고 : ₩3,000,000\n",
      ">> 아래 정보로 계좌가 생성되었습니다.\n",
      "[계좌정보] 은행이름: SC은행, 예금주: 조웅제, 계좌번호: 219-36-328475, 잔고 : ₩5,000,000\n"
     ]
    }
   ],
   "execution_count": 50
  },
  {
   "metadata": {
    "ExecuteTime": {
     "end_time": "2024-09-02T07:21:37.185042Z",
     "start_time": "2024-09-02T07:21:37.183084Z"
    }
   },
   "cell_type": "code",
   "source": [
    "'''\n",
    "Account 클래스로부터 생성된 계좌의 갯수를 출력합니다.\n",
    "'''\n",
    "first_account.get_account_num()"
   ],
   "id": "7fc8ab6b5501e919",
   "outputs": [
    {
     "name": "stdout",
     "output_type": "stream",
     "text": [
      "생성된 총 계좌 갯수 : 3\n"
     ]
    }
   ],
   "execution_count": 51
  },
  {
   "metadata": {
    "ExecuteTime": {
     "end_time": "2024-09-02T07:21:37.392943Z",
     "start_time": "2024-09-02T07:21:37.390218Z"
    }
   },
   "cell_type": "code",
   "source": [
    "'''\n",
    "[Q9] 객체순회반복문을 통하여 리스트에 있는 객체를 순회하면서 잔고가 100만원 이상인 고객의 정보만 출력합니다.\n",
    "'''\n",
    "totalAccounts = [first_account, second_account, third_account]\n",
    "\n",
    "for acct in totalAccounts:\n",
    "    if acct.balance >= 1000000:\n",
    "        acct.display_info()\n",
    "    else:\n",
    "        pass\n"
   ],
   "id": "68a6c441d912f836",
   "outputs": [
    {
     "name": "stdout",
     "output_type": "stream",
     "text": [
      "[계좌정보] 은행이름: SC은행, 예금주: 박광석, 계좌번호: 220-29-498669, 잔고 : ₩3,000,000\n",
      "[계좌정보] 은행이름: SC은행, 예금주: 조웅제, 계좌번호: 219-36-328475, 잔고 : ₩5,000,000\n"
     ]
    }
   ],
   "execution_count": 52
  },
  {
   "metadata": {
    "ExecuteTime": {
     "end_time": "2024-09-02T07:21:37.595167Z",
     "start_time": "2024-09-02T07:21:37.591757Z"
    }
   },
   "cell_type": "code",
   "source": [
    "'''\n",
    "입금메서드, 출금메서드, 이자지급 기능 \n",
    "'''\n",
    "for i in range(10):\n",
    "    first_account.deposit(1000)\n",
    "first_account.deposit(-1000)\n",
    "first_account.withdraw(300000)\n",
    "first_account.withdraw(3000)"
   ],
   "id": "74458d5cc298fbf7",
   "outputs": [
    {
     "name": "stdout",
     "output_type": "stream",
     "text": [
      ">> 입금 완료 ₩1,000\n",
      "[계좌정보] 은행이름: SC은행, 예금주: 차정은, 계좌번호: 274-20-535077, 잔고 : ₩2,000\n",
      ">> 입금 완료 ₩1,000\n",
      "[계좌정보] 은행이름: SC은행, 예금주: 차정은, 계좌번호: 274-20-535077, 잔고 : ₩3,000\n",
      ">> 입금 완료 ₩1,000\n",
      "[계좌정보] 은행이름: SC은행, 예금주: 차정은, 계좌번호: 274-20-535077, 잔고 : ₩4,000\n",
      ">> 입금 완료 ₩1,000\n",
      "[계좌정보] 은행이름: SC은행, 예금주: 차정은, 계좌번호: 274-20-535077, 잔고 : ₩5,000\n",
      ">> 입금 완료 ₩1,000\n",
      ">> 이자지급 : ₩60 의 이자 지급\n",
      "[계좌정보] 은행이름: SC은행, 예금주: 차정은, 계좌번호: 274-20-535077, 잔고 : ₩6,060\n",
      ">> 입금 완료 ₩1,000\n",
      "[계좌정보] 은행이름: SC은행, 예금주: 차정은, 계좌번호: 274-20-535077, 잔고 : ₩7,060\n",
      ">> 입금 완료 ₩1,000\n",
      "[계좌정보] 은행이름: SC은행, 예금주: 차정은, 계좌번호: 274-20-535077, 잔고 : ₩8,060\n",
      ">> 입금 완료 ₩1,000\n",
      "[계좌정보] 은행이름: SC은행, 예금주: 차정은, 계좌번호: 274-20-535077, 잔고 : ₩9,060\n",
      ">> 입금 완료 ₩1,000\n",
      "[계좌정보] 은행이름: SC은행, 예금주: 차정은, 계좌번호: 274-20-535077, 잔고 : ₩10,060\n",
      ">> 입금 완료 ₩1,000\n",
      ">> 이자지급 : ₩111 의 이자 지급\n",
      "[계좌정보] 은행이름: SC은행, 예금주: 차정은, 계좌번호: 274-20-535077, 잔고 : ₩11,171\n",
      ">> 최소 1원 이상만 입금 가능합니다.\n",
      "[계좌정보] 은행이름: SC은행, 예금주: 차정은, 계좌번호: 274-20-535077, 잔고 : ₩11,171\n",
      "출금액은 계좌의 잔고 이상이어야 합니다.\n",
      "[계좌정보] 은행이름: SC은행, 예금주: 차정은, 계좌번호: 274-20-535077, 잔고 : ₩11,171\n",
      ">> 출금 완료 : ₩3,000\n",
      "[계좌정보] 은행이름: SC은행, 예금주: 차정은, 계좌번호: 274-20-535077, 잔고 : ₩8,171\n"
     ]
    }
   ],
   "execution_count": 53
  },
  {
   "metadata": {
    "ExecuteTime": {
     "end_time": "2024-09-02T07:22:20.448656Z",
     "start_time": "2024-09-02T07:22:20.445186Z"
    }
   },
   "cell_type": "code",
   "source": [
    "'''\n",
    "입금과 출금내역 출력\n",
    "'''\n",
    "\n",
    "first_account.display_transactions()"
   ],
   "id": "930d1e23f8905454",
   "outputs": [
    {
     "name": "stdout",
     "output_type": "stream",
     "text": [
      "[거래정보] OPEN_ACCOUNT ₩0 잔고 : ₩0\n",
      "[거래정보] DEPOSIT ₩1,000 잔고 : ₩2,000\n",
      "[거래정보] DEPOSIT ₩1,000 잔고 : ₩3,000\n",
      "[거래정보] DEPOSIT ₩1,000 잔고 : ₩4,000\n",
      "[거래정보] DEPOSIT ₩1,000 잔고 : ₩5,000\n",
      "[거래정보] DEPOSIT ₩1,000 잔고 : ₩6,000\n",
      "[거래정보] INTEREST ₩61 잔고 : ₩0\n",
      "[거래정보] DEPOSIT ₩1,000 잔고 : ₩7,060\n",
      "[거래정보] DEPOSIT ₩1,000 잔고 : ₩8,060\n",
      "[거래정보] DEPOSIT ₩1,000 잔고 : ₩9,060\n",
      "[거래정보] DEPOSIT ₩1,000 잔고 : ₩10,060\n",
      "[거래정보] DEPOSIT ₩1,000 잔고 : ₩11,060\n",
      "[거래정보] INTEREST ₩112 잔고 : ₩0\n",
      "[거래정보] WITHDRAW ₩3,000 잔고 : ₩8,171\n"
     ]
    }
   ],
   "execution_count": 57
  },
  {
   "metadata": {
    "ExecuteTime": {
     "end_time": "2024-09-02T07:22:20.756787Z",
     "start_time": "2024-09-02T07:22:20.753068Z"
    }
   },
   "cell_type": "code",
   "source": "first_account.deposit_history()",
   "id": "2453f579caf0b1d8",
   "outputs": [
    {
     "name": "stdout",
     "output_type": "stream",
     "text": [
      "DEPOSIT ₩1,000 잔고 : ₩2,000\n",
      "DEPOSIT ₩1,000 잔고 : ₩3,000\n",
      "DEPOSIT ₩1,000 잔고 : ₩4,000\n",
      "DEPOSIT ₩1,000 잔고 : ₩5,000\n",
      "DEPOSIT ₩1,000 잔고 : ₩6,000\n",
      "DEPOSIT ₩1,000 잔고 : ₩7,060\n",
      "DEPOSIT ₩1,000 잔고 : ₩8,060\n",
      "DEPOSIT ₩1,000 잔고 : ₩9,060\n",
      "DEPOSIT ₩1,000 잔고 : ₩10,060\n",
      "DEPOSIT ₩1,000 잔고 : ₩11,060\n"
     ]
    }
   ],
   "execution_count": 58
  },
  {
   "metadata": {
    "ExecuteTime": {
     "end_time": "2024-09-02T07:22:21.310714Z",
     "start_time": "2024-09-02T07:22:21.308621Z"
    }
   },
   "cell_type": "code",
   "source": "first_account.withdraw_history()",
   "id": "6a9e3e77cfb876d6",
   "outputs": [
    {
     "name": "stdout",
     "output_type": "stream",
     "text": [
      "WITHDRAW ₩3,000 잔고 : ₩8,171\n"
     ]
    }
   ],
   "execution_count": 59
  },
  {
   "metadata": {},
   "cell_type": "code",
   "outputs": [],
   "execution_count": null,
   "source": "",
   "id": "8d47fc313a0243ab"
  }
 ],
 "metadata": {
  "kernelspec": {
   "display_name": "Python 3",
   "language": "python",
   "name": "python3"
  },
  "language_info": {
   "codemirror_mode": {
    "name": "ipython",
    "version": 2
   },
   "file_extension": ".py",
   "mimetype": "text/x-python",
   "name": "python",
   "nbconvert_exporter": "python",
   "pygments_lexer": "ipython2",
   "version": "2.7.6"
  }
 },
 "nbformat": 4,
 "nbformat_minor": 5
}
