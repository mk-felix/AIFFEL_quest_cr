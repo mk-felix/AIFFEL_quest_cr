{
 "cells": [
  {
   "metadata": {},
   "cell_type": "markdown",
   "source": "# 파이썬모듈 메인 퀘스트02,   2024. 9. 2.  김민규(03)",
   "id": "2d6b7688ef24c90b"
  },
  {
   "metadata": {},
   "cell_type": "markdown",
   "source": "## 메인퀘스트 2 간단한 자동사냥 RPG만들기",
   "id": "c4910d76ce656ccd"
  },
  {
   "metadata": {
    "ExecuteTime": {
     "end_time": "2024-09-02T08:00:49.778464Z",
     "start_time": "2024-09-02T08:00:49.775967Z"
    }
   },
   "cell_type": "code",
   "source": "import random",
   "id": "8767478b832d1f34",
   "outputs": [],
   "execution_count": 93
  },
  {
   "metadata": {},
   "cell_type": "markdown",
   "source": "### [Q1] Character Class 만들기",
   "id": "74f6f1ec7bf3afc3"
  },
  {
   "metadata": {
    "ExecuteTime": {
     "end_time": "2024-09-02T08:09:40.878789Z",
     "start_time": "2024-09-02T08:09:40.875107Z"
    }
   },
   "cell_type": "code",
   "source": [
    "'''\n",
    "[Q1] Character class만들기\n",
    "'''\n",
    "\n",
    "class Character:\n",
    "    def __init__(self, name, level, health, attack, defense):\n",
    "        self.name = name\n",
    "        self.level = level\n",
    "        self.health = health\n",
    "        self.attack = attack\n",
    "        self.defense = defense\n",
    "\n",
    "    # is_alive는 인스턴스의 현재 체력이 0인지 bool값을 반환합니다.    \n",
    "    def is_alive(self):\n",
    "        if self.health > 0:\n",
    "            print(f'현재 {self.name}의 체력은 {self.health}.')\n",
    "            return True\n",
    "        else:\n",
    "            return False\n",
    "    \n",
    "    # take_damage는 공격을 받았을 때에 받은데미지 - 방어력 만큼 체력이 감소합니다. 본인의 방어력이 데미지보다 크다면 체력이 감소하지 않습니다.    \n",
    "    def take_damage(self, damage):\n",
    "        \n",
    "        if self.defense > damage:\n",
    "            print(f'{self.name}은 공격 받았으나 아무런 데미지를 입지 않았다.')\n",
    "        else:\n",
    "            self.health -= damage\n",
    "            if not self.is_alive():\n",
    "                print(f'{self.name}의 전투패배...')\n",
    "    \n",
    "    # 타겟에게 데미지를 입히는 메서드입니다. 데미지는 1부터 공격력 사이의 랜덤한 정수\n",
    "    def attack_target(self) -> int:\n",
    "        print(f'{self.name}의 공격시작!')\n",
    "        dmg = random.randint(1, self.attack)\n",
    "        print(f'{self.name}은 {dmg}의 데미지를 입혔다.')\n",
    "        return dmg\n",
    "\n",
    "    "
   ],
   "id": "4010b5298b810667",
   "outputs": [],
   "execution_count": 120
  },
  {
   "metadata": {},
   "cell_type": "markdown",
   "source": "### [Q2] Player 클래스와 Monster 클래스 만들기",
   "id": "90e143d61f45b416"
  },
  {
   "metadata": {
    "ExecuteTime": {
     "end_time": "2024-09-02T08:13:06.889966Z",
     "start_time": "2024-09-02T08:13:06.885782Z"
    }
   },
   "cell_type": "code",
   "source": [
    "class Player(Character):\n",
    "    def __init__(self, name):\n",
    "        super().__init__(name, 1, 100, 25, 5)\n",
    "        self.exp = 0\n",
    "        \n",
    "        \n",
    "    '''\n",
    "    gain_experience는 battle 함수에서 플레이어가 공격시도할 때에 호출됩니다.\n",
    "    '''\n",
    "    def gain_experience(self, amount):\n",
    "        self.exp += amount\n",
    "        print(f'{self.name}은 {amount}의 경험치를 얻었다! 현재 경험치 : {self.exp}')\n",
    "        \n",
    "    \n",
    "    '''\n",
    "    level_up 은 gain_exprirence 호출 뒤에 레벨업 체크를 위해서 호출됩니다.\n",
    "    '''    \n",
    "    def level_up(self):\n",
    "        if self.exp > 50:\n",
    "            self.level += 1\n",
    "            self.attack += 10\n",
    "            self.defense += 5\n",
    "            print(f'{self.name}은 레벨업했다! 현재 레벨: {self.level}')\n",
    "            # 레벨업 했으므로 경험치는 0으로 초기화 해줍니다.\n",
    "            self.exp = 0\n"
   ],
   "id": "9a3b40068ab583ad",
   "outputs": [],
   "execution_count": 133
  },
  {
   "metadata": {
    "ExecuteTime": {
     "end_time": "2024-09-02T08:13:08.550857Z",
     "start_time": "2024-09-02T08:13:08.547245Z"
    }
   },
   "cell_type": "code",
   "source": [
    "class Monster(Character):\n",
    "    def __init__(self, name, level):\n",
    "        super().__init__(name,level,0,0,0)\n",
    "        self.name = name\n",
    "        self.level = level\n",
    "        self.health = random.randint(10,30) * self.level\n",
    "        self.attack = random.randint(5,20) * self.level\n",
    "        self.defense = random.randint(1,5) * self.level\n",
    "        print(f'몬스터 {self.name}이 생성되었다!')\n",
    "        \n",
    "        \n",
    "        \n",
    "    \n",
    "        "
   ],
   "id": "f5195abbdda959ba",
   "outputs": [],
   "execution_count": 134
  },
  {
   "metadata": {},
   "cell_type": "markdown",
   "source": "### [Q3] battle 함수 만들기",
   "id": "b3ff2add3a935184"
  },
  {
   "metadata": {
    "ExecuteTime": {
     "end_time": "2024-09-02T08:13:09.275753Z",
     "start_time": "2024-09-02T08:13:09.273288Z"
    }
   },
   "cell_type": "code",
   "source": [
    "def battle(player, monster):\n",
    "    while player.is_alive() and monster.is_alive():\n",
    "        # 플레이어가 먼저 공격합니다.\n",
    "        player_damage = player.attack_target()\n",
    "        monster.take_damage(player_damage)\n",
    "        player.gain_experience(monster.level*20)\n",
    "        player.level_up()\n",
    "        \n",
    "        # 몬스터가 공격을 받고도 살아있다면 플레이어를 공격합니다.\n",
    "        if monster.is_alive():\n",
    "            monster_damage = monster.attack_target()\n",
    "            player.take_damage(monster_damage)\n",
    "            \n",
    "        else: #몬스터 사망\n",
    "            print(f'{player.name}은 {monster.name}을 처치했다!')\n",
    "            print('전투승리!')\n",
    "            \n",
    "        "
   ],
   "id": "e5730166afb4604f",
   "outputs": [],
   "execution_count": 135
  },
  {
   "metadata": {},
   "cell_type": "markdown",
   "source": "### [Q4] main 함수 만들기",
   "id": "434edc2d249543f8"
  },
  {
   "metadata": {
    "ExecuteTime": {
     "end_time": "2024-09-02T08:13:10.295323Z",
     "start_time": "2024-09-02T08:13:10.292412Z"
    }
   },
   "cell_type": "code",
   "source": [
    "def main():\n",
    "    monster_dict = {\n",
    "        '슬라임':1,\n",
    "        '고블린':2,\n",
    "        '오크':3,\n",
    "    }\n",
    "    name = '성이름'\n",
    "    player = Player(name)\n",
    "    \n",
    "    # 몬스터 딕셔너리로부터 Monster 인스턴스들을 생성하고 그 리스트를 유지합니다.\n",
    "    monster_list = []\n",
    "    for k,v in monster_dict.items():\n",
    "        monster_list.append(Monster(k, v))\n",
    "        \n",
    "    # 생성된 몬스터 인스턴스와 player 인스턴스가 battle 함수를 통해 전투합니다.\n",
    "    for i in range(len(monster_list)):\n",
    "        battle(player, monster_list[i])\n",
    "        "
   ],
   "id": "10c3a0289142d575",
   "outputs": [],
   "execution_count": 136
  },
  {
   "metadata": {
    "ExecuteTime": {
     "end_time": "2024-09-02T08:13:10.907058Z",
     "start_time": "2024-09-02T08:13:10.903664Z"
    }
   },
   "cell_type": "code",
   "source": "main()",
   "id": "7f99e443fca89161",
   "outputs": [
    {
     "name": "stdout",
     "output_type": "stream",
     "text": [
      "몬스터 슬라임이 생성되었다!\n",
      "몬스터 고블린이 생성되었다!\n",
      "몬스터 오크이 생성되었다!\n",
      "현재 성이름의 체력은 100.\n",
      "현재 슬라임의 체력은 12.\n",
      "성이름의 공격시작!\n",
      "성이름은 13의 데미지를 입혔다.\n",
      "슬라임의 전투패배...\n",
      "성이름은 20의 경험치를 얻었다! 현재 경험치 : 20\n",
      "성이름은 슬라임을 처치했다!\n",
      "전투승리!\n",
      "현재 성이름의 체력은 100.\n",
      "현재 성이름의 체력은 100.\n",
      "현재 고블린의 체력은 40.\n",
      "성이름의 공격시작!\n",
      "성이름은 19의 데미지를 입혔다.\n",
      "현재 고블린의 체력은 21.\n",
      "성이름은 40의 경험치를 얻었다! 현재 경험치 : 60\n",
      "성이름은 레벨업했다! 현재 레벨: 2\n",
      "현재 고블린의 체력은 21.\n",
      "고블린의 공격시작!\n",
      "고블린은 9의 데미지를 입혔다.\n",
      "성이름은 공격 받았으나 아무런 데미지를 입지 않았다.\n",
      "현재 성이름의 체력은 100.\n",
      "현재 고블린의 체력은 21.\n",
      "성이름의 공격시작!\n",
      "성이름은 28의 데미지를 입혔다.\n",
      "고블린의 전투패배...\n",
      "성이름은 40의 경험치를 얻었다! 현재 경험치 : 40\n",
      "성이름은 고블린을 처치했다!\n",
      "전투승리!\n",
      "현재 성이름의 체력은 100.\n",
      "현재 성이름의 체력은 100.\n",
      "현재 오크의 체력은 81.\n",
      "성이름의 공격시작!\n",
      "성이름은 12의 데미지를 입혔다.\n",
      "오크은 공격 받았으나 아무런 데미지를 입지 않았다.\n",
      "성이름은 60의 경험치를 얻었다! 현재 경험치 : 100\n",
      "성이름은 레벨업했다! 현재 레벨: 3\n",
      "현재 오크의 체력은 81.\n",
      "오크의 공격시작!\n",
      "오크은 34의 데미지를 입혔다.\n",
      "현재 성이름의 체력은 66.\n",
      "현재 성이름의 체력은 66.\n",
      "현재 오크의 체력은 81.\n",
      "성이름의 공격시작!\n",
      "성이름은 4의 데미지를 입혔다.\n",
      "오크은 공격 받았으나 아무런 데미지를 입지 않았다.\n",
      "성이름은 60의 경험치를 얻었다! 현재 경험치 : 60\n",
      "성이름은 레벨업했다! 현재 레벨: 4\n",
      "현재 오크의 체력은 81.\n",
      "오크의 공격시작!\n",
      "오크은 28의 데미지를 입혔다.\n",
      "현재 성이름의 체력은 38.\n",
      "현재 성이름의 체력은 38.\n",
      "현재 오크의 체력은 81.\n",
      "성이름의 공격시작!\n",
      "성이름은 53의 데미지를 입혔다.\n",
      "현재 오크의 체력은 28.\n",
      "성이름은 60의 경험치를 얻었다! 현재 경험치 : 60\n",
      "성이름은 레벨업했다! 현재 레벨: 5\n",
      "현재 오크의 체력은 28.\n",
      "오크의 공격시작!\n",
      "오크은 6의 데미지를 입혔다.\n",
      "성이름은 공격 받았으나 아무런 데미지를 입지 않았다.\n",
      "현재 성이름의 체력은 38.\n",
      "현재 오크의 체력은 28.\n",
      "성이름의 공격시작!\n",
      "성이름은 44의 데미지를 입혔다.\n",
      "오크의 전투패배...\n",
      "성이름은 60의 경험치를 얻었다! 현재 경험치 : 60\n",
      "성이름은 레벨업했다! 현재 레벨: 6\n",
      "성이름은 오크을 처치했다!\n",
      "전투승리!\n",
      "현재 성이름의 체력은 38.\n"
     ]
    }
   ],
   "execution_count": 137
  },
  {
   "metadata": {},
   "cell_type": "markdown",
   "source": "",
   "id": "63c9353eb84a1f94"
  },
  {
   "metadata": {},
   "cell_type": "markdown",
   "source": [
    "### 퀘스트를 마무리하며\n",
    "\n",
    "* 캐릭터 gain_experience 및 level_up 등이 맞는지 검증 및 그 설계가 생각보다 까다롭다는 생각을 해보게 됩니다.\n",
    "* 즉, 이 문제의 경우 몬스터의 종류별로 공격, 방어, 경험치 . 설계가 단순한 편이었지만 더 복잡하다면 어떻게 게임 전체를 설계해야할지도 고민해야 할 듯 합니다.\n",
    "* class 상속과 관련하여 기존에 알고있던 다른 언어와 약간의 차이가 있어서 아직도 간혹 헷갈린 경우가 있습니다."
   ],
   "id": "36acc38702f3f072"
  },
  {
   "metadata": {},
   "cell_type": "code",
   "outputs": [],
   "execution_count": null,
   "source": "",
   "id": "afaaa31d16dd629f"
  }
 ],
 "metadata": {
  "kernelspec": {
   "display_name": "Python 3",
   "language": "python",
   "name": "python3"
  },
  "language_info": {
   "codemirror_mode": {
    "name": "ipython",
    "version": 2
   },
   "file_extension": ".py",
   "mimetype": "text/x-python",
   "name": "python",
   "nbconvert_exporter": "python",
   "pygments_lexer": "ipython2",
   "version": "2.7.6"
  }
 },
 "nbformat": 4,
 "nbformat_minor": 5
}
