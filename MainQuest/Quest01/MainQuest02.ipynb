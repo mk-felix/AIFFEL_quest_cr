{
 "cells": [
  {
   "metadata": {},
   "cell_type": "markdown",
   "source": "# 파이썬모듈 메인 퀘스트02,   2024. 9. 2.  김민규(03)",
   "id": "2d6b7688ef24c90b"
  },
  {
   "metadata": {},
   "cell_type": "markdown",
   "source": "## 메인퀘스트 2 간단한 자동사냥 RPG만들기",
   "id": "c4910d76ce656ccd"
  },
  {
   "metadata": {
    "ExecuteTime": {
     "end_time": "2024-09-02T04:43:54.750233Z",
     "start_time": "2024-09-02T04:43:54.747131Z"
    }
   },
   "cell_type": "code",
   "source": "import random",
   "id": "8767478b832d1f34",
   "outputs": [],
   "execution_count": 2
  },
  {
   "metadata": {
    "ExecuteTime": {
     "end_time": "2024-09-02T04:45:25.920190Z",
     "start_time": "2024-09-02T04:45:25.915403Z"
    }
   },
   "cell_type": "code",
   "source": [
    "'''\n",
    "[Q1] Character class만들기\n",
    "'''\n",
    "\n",
    "class Character:\n",
    "    def __init__(self, name, level, health, attack, defense):\n",
    "        self.name = name\n",
    "        self.level = level\n",
    "        self.health = health\n",
    "        self.attack = attack\n",
    "        self.defense = defense\n",
    "\n",
    "    # is_alive는 인스턴스의 현재 체력이 0인지 bool값을 반환합니다.    \n",
    "    def is_alive(self):\n",
    "        if self.health > 0:\n",
    "            return True\n",
    "        else:\n",
    "            return False\n",
    "    \n",
    "    # take_damage는 공격을 받았을 때에 받은데미지 - 방어력 만큼 체력이 감소합니다. 본인의 방어력이 데미지보다 크다면 체력이 감소하지 않습니다.    \n",
    "    def take_damage(self, damage):\n",
    "        \n",
    "        if self.defense > damage:\n",
    "            print(f'공격 받았으나 아무런 데미지를 입지 않았다.')\n",
    "        else:\n",
    "            self.health -= damage\n",
    "            if not self.is_alive():\n",
    "                print(f'주금..')\n",
    "    \n",
    "    # 타겟에게 데미지를 입히는 메서드입니다. 데미지는 1부터 공격력 사이의 랜덤한 정수\n",
    "    def attack_target(self) -> int:\n",
    "        dmg = random.randint(1, self.attack)\n",
    "        return dmg\n",
    "\n",
    "    "
   ],
   "id": "4010b5298b810667",
   "outputs": [],
   "execution_count": 5
  },
  {
   "metadata": {
    "ExecuteTime": {
     "end_time": "2024-09-02T05:06:44.254482Z",
     "start_time": "2024-09-02T05:06:44.250798Z"
    }
   },
   "cell_type": "code",
   "source": [
    "class Player(Character):\n",
    "    def __init__(self, name):\n",
    "        super().__init__(name, 1, 100, 25, 5)\n",
    "        self.exp = 0\n",
    "        \n",
    "    def gain_experience(self, amount):\n",
    "        self.exp += amount\n",
    "        \n",
    "    def level_up(self):\n",
    "        if self.exp > 50:\n",
    "            self.level += 1\n",
    "            self.attack += 10\n",
    "            self.defense += 5\n"
   ],
   "id": "9a3b40068ab583ad",
   "outputs": [],
   "execution_count": 12
  },
  {
   "metadata": {
    "ExecuteTime": {
     "end_time": "2024-09-02T05:10:47.050907Z",
     "start_time": "2024-09-02T05:10:47.048420Z"
    }
   },
   "cell_type": "code",
   "source": [
    "class Monster(Character):\n",
    "    def __init__(self, name, level):\n",
    "        self.name = name\n",
    "        self.level = level\n",
    "        self.health = random.randint(10,30) * self.level\n",
    "        self.attack = random.randint(5,20) * self.level\n",
    "        self.defense = random.randint(1,5) * self.level\n",
    "        \n",
    "    \n",
    "        "
   ],
   "id": "f5195abbdda959ba",
   "outputs": [],
   "execution_count": 16
  },
  {
   "metadata": {
    "ExecuteTime": {
     "end_time": "2024-09-02T05:01:41.557169Z",
     "start_time": "2024-09-02T05:01:41.552742Z"
    }
   },
   "cell_type": "code",
   "source": [
    "def battle(player, monster):\n",
    "    while player.is_alive() and monster.is_alive():\n",
    "        player_damage = player.attack_target()\n",
    "        monster.take_damage(player_damage)\n",
    "\n",
    "        if monster.is_alive():\n",
    "            monster_damage = monster.attack_target()\n",
    "            player.take_damage(monster_damage)\n",
    "    "
   ],
   "id": "e5730166afb4604f",
   "outputs": [],
   "execution_count": 9
  },
  {
   "metadata": {
    "ExecuteTime": {
     "end_time": "2024-09-02T05:15:30.840489Z",
     "start_time": "2024-09-02T05:15:30.838114Z"
    }
   },
   "cell_type": "code",
   "source": [
    "def main():\n",
    "    monster_dict = {\n",
    "        '슬라임':1,\n",
    "        '고블린':2,\n",
    "        '오크':3\n",
    "    }\n",
    "    name = str(input('사용자의 이름은? : '))\n",
    "    player = Player(name)\n",
    "    \n",
    "    # 몬스터 딕셔너리로부터 Monster 인스턴스들을 생성하고 그 리스트를 유지합니다.\n",
    "    monster_list = []\n",
    "    for k,v in monster_dict.items():\n",
    "        monster_list.append(Monster(k, v))\n",
    "        \n",
    "    # 생성된 몬스터 인스턴스와 player 인스턴스가 battle 함수를 통해 전투합니다.\n",
    "    for i in range(len(monster_list)):\n",
    "        battle(player, monster_list[i])\n",
    "        "
   ],
   "id": "10c3a0289142d575",
   "outputs": [],
   "execution_count": 25
  },
  {
   "metadata": {
    "ExecuteTime": {
     "end_time": "2024-09-02T05:15:34.284686Z",
     "start_time": "2024-09-02T05:15:32.188859Z"
    }
   },
   "cell_type": "code",
   "source": "main()",
   "id": "7f99e443fca89161",
   "outputs": [
    {
     "name": "stdout",
     "output_type": "stream",
     "text": [
      "주금..\n",
      "공격 받았으나 아무런 데미지를 입지 않았다.\n",
      "공격 받았으나 아무런 데미지를 입지 않았다.\n",
      "주금..\n",
      "공격 받았으나 아무런 데미지를 입지 않았다.\n",
      "주금..\n"
     ]
    }
   ],
   "execution_count": 26
  },
  {
   "metadata": {},
   "cell_type": "code",
   "outputs": [],
   "execution_count": null,
   "source": "",
   "id": "81017e21ff2f49a2"
  }
 ],
 "metadata": {
  "kernelspec": {
   "display_name": "Python 3",
   "language": "python",
   "name": "python3"
  },
  "language_info": {
   "codemirror_mode": {
    "name": "ipython",
    "version": 2
   },
   "file_extension": ".py",
   "mimetype": "text/x-python",
   "name": "python",
   "nbconvert_exporter": "python",
   "pygments_lexer": "ipython2",
   "version": "2.7.6"
  }
 },
 "nbformat": 4,
 "nbformat_minor": 5
}
